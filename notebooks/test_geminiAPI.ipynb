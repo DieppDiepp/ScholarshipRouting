{
 "cells": [
  {
   "cell_type": "markdown",
   "id": "371e9f8b",
   "metadata": {},
   "source": [
    "## Test Gemini API in Langchain Framework"
   ]
  },
  {
   "cell_type": "code",
   "execution_count": 1,
   "id": "90555bab",
   "metadata": {},
   "outputs": [
    {
     "name": "stderr",
     "output_type": "stream",
     "text": [
      "d:\\Git\\ScholarshipRouting\\venv310\\lib\\site-packages\\tqdm\\auto.py:21: TqdmWarning: IProgress not found. Please update jupyter and ipywidgets. See https://ipywidgets.readthedocs.io/en/stable/user_install.html\n",
      "  from .autonotebook import tqdm as notebook_tqdm\n"
     ]
    }
   ],
   "source": [
    "import getpass\n",
    "import os\n",
    "from dotenv import load_dotenv\n",
    "from langchain_core.messages import HumanMessage, SystemMessage, AIMessage\n",
    "\n",
    "from langchain_google_genai import ChatGoogleGenerativeAI\n",
    "import google.generativeai as genai\n",
    "from google import genai\n",
    "from google.genai import types"
   ]
  },
  {
   "cell_type": "code",
   "execution_count": 15,
   "id": "3f148a60",
   "metadata": {},
   "outputs": [
    {
     "name": "stdout",
     "output_type": "stream",
     "text": [
      "API key set in environment variable. Ending with: Popw\n"
     ]
    }
   ],
   "source": [
    "cur_file_path = os.getcwd()\n",
    "parent_path = os.path.dirname(cur_file_path)\n",
    "\n",
    "env_path = os.path.join(parent_path, \".env\")\n",
    "load_dotenv(dotenv_path=env_path, override=True)\n",
    "\n",
    "if \"GOOGLE_API_KEY\" not in os.environ:\n",
    "    os.environ[\"GOOGLE_API_KEY\"] = getpass.getpass(\"Enter your Google AI API key: \")\n",
    "else:\n",
    "    print(f\"API key set in environment variable. Ending with: {os.environ['GOOGLE_API_KEY'][-4:]}\")"
   ]
  },
  {
   "cell_type": "code",
   "execution_count": 16,
   "id": "328db8c1",
   "metadata": {},
   "outputs": [],
   "source": [
    "gemini_25 = ChatGoogleGenerativeAI(\n",
    "    model=\"gemini-2.5-flash\",\n",
    "    temperature=0,\n",
    "    api_key=os.environ[\"GOOGLE_API_KEY\"],\n",
    "    # max_tokens=None,\n",
    "    # timeout=None,\n",
    "    # max_retries=2,\n",
    "    # other params...\n",
    ")"
   ]
  },
  {
   "cell_type": "code",
   "execution_count": 20,
   "id": "3e88ed19",
   "metadata": {},
   "outputs": [
    {
     "name": "stdout",
     "output_type": "stream",
     "text": [
      "<class 'list'>\n"
     ]
    }
   ],
   "source": [
    "messages = [\n",
    "    SystemMessage(\"Dịch câu sau qua tiếng anh\"),\n",
    "    HumanMessage(\"Hãy vui lên vì cuộc đời yêu dấu!\"),\n",
    "]\n",
    "print(type(messages))\n",
    "\n",
    "res = gemini_25.invoke(messages)"
   ]
  },
  {
   "cell_type": "code",
   "execution_count": 21,
   "id": "103292c1",
   "metadata": {},
   "outputs": [
    {
     "name": "stdout",
     "output_type": "stream",
     "text": [
      "Dưới đây là một vài cách dịch, tùy thuộc vào sắc thái bạn muốn truyền tải:\n",
      "\n",
      "1.  **Cheer up, for life is beloved!** (Nghe hơi thơ mộng, trang trọng một chút)\n",
      "2.  **Be happy, because life is precious!** (Trực tiếp và phổ biến)\n",
      "3.  **Cheer up, because life is dear!** (Cũng rất tự nhiên)\n",
      "4.  **Smile, for life is a treasure!** (Nhấn mạnh giá trị của cuộc sống)\n"
     ]
    }
   ],
   "source": [
    "print(res.content)"
   ]
  },
  {
   "cell_type": "code",
   "execution_count": null,
   "id": "e61a33d8",
   "metadata": {},
   "outputs": [],
   "source": []
  }
 ],
 "metadata": {
  "kernelspec": {
   "display_name": "venv310 (3.10.11)",
   "language": "python",
   "name": "python3"
  },
  "language_info": {
   "codemirror_mode": {
    "name": "ipython",
    "version": 3
   },
   "file_extension": ".py",
   "mimetype": "text/x-python",
   "name": "python",
   "nbconvert_exporter": "python",
   "pygments_lexer": "ipython3",
   "version": "3.10.11"
  }
 },
 "nbformat": 4,
 "nbformat_minor": 5
}
